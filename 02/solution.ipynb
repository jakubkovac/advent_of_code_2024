{
 "cells": [
  {
   "cell_type": "code",
   "execution_count": 2,
   "metadata": {},
   "outputs": [],
   "source": [
    "import numpy as np"
   ]
  },
  {
   "cell_type": "code",
   "execution_count": 38,
   "metadata": {},
   "outputs": [],
   "source": [
    "with open(\"input.txt\") as f:\n",
    "    data = f.read().splitlines()\n",
    "for i in range(len(data)):\n",
    "    data[i] = np.array([int(x) for x in data[i].split(\" \")])"
   ]
  },
  {
   "cell_type": "code",
   "execution_count": 47,
   "metadata": {},
   "outputs": [],
   "source": [
    "def is_safe(reports):\n",
    "    d = reports[:-1] - reports[1:]\n",
    "    d_abs = np.abs(d)\n",
    "    if all(d_abs>=1) and all(d_abs<=3) and (all(d>0) or all(d<0)):\n",
    "        return True\n",
    "    return False"
   ]
  },
  {
   "cell_type": "code",
   "execution_count": 48,
   "metadata": {},
   "outputs": [
    {
     "data": {
      "text/plain": [
       "624"
      ]
     },
     "execution_count": 48,
     "metadata": {},
     "output_type": "execute_result"
    }
   ],
   "source": [
    "n_safe = 0\n",
    "for i in range(len(data)):\n",
    "    n_safe += is_safe(data[i])\n",
    "n_safe"
   ]
  },
  {
   "cell_type": "code",
   "execution_count": 58,
   "metadata": {},
   "outputs": [
    {
     "data": {
      "text/plain": [
       "658"
      ]
     },
     "execution_count": 58,
     "metadata": {},
     "output_type": "execute_result"
    }
   ],
   "source": [
    "#part 2\n",
    "n_safe = 0\n",
    "for i in range(len(data)):\n",
    "    reports = data[i]\n",
    "    s = is_safe(reports)\n",
    "    if s:\n",
    "        n_safe += s\n",
    "    else:\n",
    "        for j in range(len(reports)):\n",
    "            s = is_safe(np.delete(reports,j))\n",
    "            if s:\n",
    "                n_safe += 1\n",
    "                break\n",
    "n_safe"
   ]
  }
 ],
 "metadata": {
  "kernelspec": {
   "display_name": ".venv",
   "language": "python",
   "name": "python3"
  },
  "language_info": {
   "codemirror_mode": {
    "name": "ipython",
    "version": 3
   },
   "file_extension": ".py",
   "mimetype": "text/x-python",
   "name": "python",
   "nbconvert_exporter": "python",
   "pygments_lexer": "ipython3",
   "version": "3.12.6"
  }
 },
 "nbformat": 4,
 "nbformat_minor": 2
}
