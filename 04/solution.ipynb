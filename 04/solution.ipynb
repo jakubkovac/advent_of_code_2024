{
 "cells": [
  {
   "cell_type": "code",
   "execution_count": 50,
   "metadata": {},
   "outputs": [],
   "source": [
    "import numpy as np\n",
    "import re"
   ]
  },
  {
   "cell_type": "code",
   "execution_count": null,
   "metadata": {},
   "outputs": [],
   "source": [
    "# with open(\"sample_input.txt\",\"r\") as f:\n",
    "#     out =f.read().splitlines()\n",
    "# data = np.array([list(x) for x in out])\n",
    "# data2 = np.fliplr(data)\n",
    "# n = data.shape[0]"
   ]
  },
  {
   "cell_type": "code",
   "execution_count": 124,
   "metadata": {},
   "outputs": [],
   "source": [
    "with open(\"input.txt\",\"r\") as f:\n",
    "    out =f.read().splitlines()\n",
    "data = np.array([list(x) for x in out])\n",
    "data2 = np.fliplr(data)\n",
    "n = data.shape[0]"
   ]
  },
  {
   "cell_type": "code",
   "execution_count": 100,
   "metadata": {},
   "outputs": [],
   "source": [
    "def find_xmas(s):\n",
    "    return len(re.findall(pattern=\"XMAS\",string =s)) + len(re.findall(pattern=\"SAMX\",string =s))\n",
    "\n",
    "def ez_find(m):\n",
    "    return find_xmas(\"\".join(m))"
   ]
  },
  {
   "cell_type": "code",
   "execution_count": 101,
   "metadata": {},
   "outputs": [
    {
     "data": {
      "text/plain": [
       "2378"
      ]
     },
     "execution_count": 101,
     "metadata": {},
     "output_type": "execute_result"
    }
   ],
   "source": [
    "n_xmas = 0\n",
    "for i in range(n):\n",
    "    col = data[:,i]\n",
    "    line = data[i,:]\n",
    "    lower_diag = np.diagonal(data, offset = i)\n",
    "    lower_diag_f = np.diagonal(data2, offset = i)\n",
    "    if i != 0:\n",
    "        upper_diag = np.diagonal(data, offset = -i)\n",
    "        upper_diag_f = np.diagonal(data2, offset = -i)\n",
    "        n_xmas += ez_find(upper_diag)\n",
    "        n_xmas += ez_find(upper_diag_f)\n",
    "    \n",
    "    n_xmas += ez_find(col)\n",
    "    n_xmas += ez_find(line)    \n",
    "    n_xmas += ez_find(lower_diag)\n",
    "    n_xmas += ez_find(lower_diag_f)\n",
    "n_xmas"
   ]
  },
  {
   "cell_type": "code",
   "execution_count": 125,
   "metadata": {},
   "outputs": [],
   "source": [
    "def find_mas(m):\n",
    "    return bool(re.match(\"MAS|SAM\",\"\".join(m)))"
   ]
  },
  {
   "cell_type": "code",
   "execution_count": 126,
   "metadata": {},
   "outputs": [
    {
     "data": {
      "text/plain": [
       "1796"
      ]
     },
     "execution_count": 126,
     "metadata": {},
     "output_type": "execute_result"
    }
   ],
   "source": [
    "#part 2\n",
    "n_mas = 0\n",
    "for i in range(n-2):\n",
    "    for j in range(n-2):\n",
    "        current_x = data[i:(i+3),j:(j+3)]\n",
    "        diag = np.diagonal(current_x)\n",
    "        other_diag = np.diagonal(np.fliplr(current_x))\n",
    "        if find_mas(diag) and find_mas(other_diag):\n",
    "            n_mas += 1\n",
    "n_mas\n",
    "        "
   ]
  }
 ],
 "metadata": {
  "kernelspec": {
   "display_name": ".venv",
   "language": "python",
   "name": "python3"
  },
  "language_info": {
   "codemirror_mode": {
    "name": "ipython",
    "version": 3
   },
   "file_extension": ".py",
   "mimetype": "text/x-python",
   "name": "python",
   "nbconvert_exporter": "python",
   "pygments_lexer": "ipython3",
   "version": "3.12.6"
  }
 },
 "nbformat": 4,
 "nbformat_minor": 2
}
