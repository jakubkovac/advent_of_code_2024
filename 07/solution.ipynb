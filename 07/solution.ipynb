{
 "cells": [
  {
   "cell_type": "code",
   "execution_count": null,
   "metadata": {},
   "outputs": [],
   "source": [
    "#in_file = \"sample.txt\"\n",
    "in_file = \"input.txt\"\n",
    "with open(in_file) as f:\n",
    "    data = f.read().splitlines()"
   ]
  },
  {
   "cell_type": "code",
   "execution_count": null,
   "metadata": {},
   "outputs": [],
   "source": [
    "data"
   ]
  },
  {
   "cell_type": "code",
   "execution_count": null,
   "metadata": {},
   "outputs": [],
   "source": [
    "def skip_too_high(numbers, answer):\n",
    "    if any([n > answer for n in numbers]):\n",
    "        return True\n",
    "    return False"
   ]
  },
  {
   "cell_type": "code",
   "execution_count": null,
   "metadata": {},
   "outputs": [],
   "source": [
    "def is_possible(numbers, answer, allow_concat = False):\n",
    "    if len(numbers) == 1:\n",
    "        return numbers[0] == answer\n",
    "    if is_possible([numbers[0]+numbers[1]]+numbers[2:], answer, allow_concat):\n",
    "        return True\n",
    "    if is_possible([numbers[0]*numbers[1]]+numbers[2:], answer, allow_concat):\n",
    "        return True\n",
    "    if allow_concat and is_possible([int(str(numbers[0])+str(numbers[1]))]+numbers[2:], answer, allow_concat):\n",
    "        return True\n",
    "    return False"
   ]
  },
  {
   "cell_type": "code",
   "execution_count": null,
   "metadata": {},
   "outputs": [],
   "source": [
    "total = 0\n",
    "total2 = 0\n",
    "for line in data:\n",
    "    answer, numbers = line.split(\": \")\n",
    "    answer = int(answer)\n",
    "    numbers = [int(x) for x in numbers.split(\" \")]\n",
    "    if not skip_too_high(numbers, answer):\n",
    "        is_p = is_possible(numbers, answer)\n",
    "        is_p2 = is_possible(numbers, answer, allow_concat=True)\n",
    "        total += is_p*answer\n",
    "        total2 += is_p2*answer\n",
    "print(total)\n",
    "print(total2)"
   ]
  }
 ],
 "metadata": {
  "kernelspec": {
   "display_name": ".venv",
   "language": "python",
   "name": "python3"
  },
  "language_info": {
   "codemirror_mode": {
    "name": "ipython",
    "version": 3
   },
   "file_extension": ".py",
   "mimetype": "text/x-python",
   "name": "python",
   "nbconvert_exporter": "python",
   "pygments_lexer": "ipython3",
   "version": "3.12.6"
  }
 },
 "nbformat": 4,
 "nbformat_minor": 2
}
