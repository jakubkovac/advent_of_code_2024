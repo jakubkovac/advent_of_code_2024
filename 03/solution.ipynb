{
 "cells": [
  {
   "cell_type": "code",
   "execution_count": null,
   "metadata": {},
   "outputs": [],
   "source": [
    "import re"
   ]
  },
  {
   "cell_type": "code",
   "execution_count": null,
   "metadata": {},
   "outputs": [],
   "source": [
    "#input_path = \"sample.txt\"\n",
    "input_path = \"input.txt\"\n",
    "with open(input_path) as f:\n",
    "    data = f.read()"
   ]
  },
  {
   "cell_type": "code",
   "execution_count": null,
   "metadata": {},
   "outputs": [],
   "source": [
    "pattern = r\"mul\\(\\d+,\\d+\\)\"\n",
    "x = re.findall(pattern, data)"
   ]
  },
  {
   "cell_type": "code",
   "execution_count": null,
   "metadata": {},
   "outputs": [],
   "source": [
    "s = 0\n",
    "for match in x:\n",
    "    m = re.search(r\"\\d+,\\d+\",match).group()\n",
    "    x1,x2 = m.split(\",\")\n",
    "    s += int(x1)*int(x2)\n",
    "s"
   ]
  },
  {
   "cell_type": "code",
   "execution_count": null,
   "metadata": {},
   "outputs": [],
   "source": [
    "#part 2\n",
    "s = 0\n",
    "enabled = True\n",
    "for x1, x2, do, dont in re.findall(r\"mul\\((\\d+),(\\d+)\\)|(do\\(\\))|(don't\\(\\))\", data):\n",
    "    #print(f\"{x1=},{x2=},{do=},{dont=}\")\n",
    "    if do or dont:\n",
    "        enabled = bool(do)\n",
    "    else:\n",
    "        s += int(x1)*int(x2)*enabled\n",
    "s"
   ]
  }
 ],
 "metadata": {
  "kernelspec": {
   "display_name": ".venv",
   "language": "python",
   "name": "python3"
  },
  "language_info": {
   "codemirror_mode": {
    "name": "ipython",
    "version": 3
   },
   "file_extension": ".py",
   "mimetype": "text/x-python",
   "name": "python",
   "nbconvert_exporter": "python",
   "pygments_lexer": "ipython3",
   "version": "3.12.6"
  }
 },
 "nbformat": 4,
 "nbformat_minor": 2
}
