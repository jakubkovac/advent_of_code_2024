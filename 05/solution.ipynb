{
 "cells": [
  {
   "cell_type": "code",
   "execution_count": null,
   "metadata": {},
   "outputs": [],
   "source": [
    "import numpy as np\n",
    "from ast import literal_eval"
   ]
  },
  {
   "cell_type": "code",
   "execution_count": null,
   "metadata": {},
   "outputs": [],
   "source": [
    "with open(\"input.txt\", \"r\") as f:\n",
    "    lines = f.read().splitlines() \n",
    "sep_line = np.where([line == \"\" for line in lines])[0].flatten().item()\n",
    "rules = lines[:sep_line]\n",
    "pages = lines[(sep_line+1):]"
   ]
  },
  {
   "cell_type": "code",
   "execution_count": null,
   "metadata": {},
   "outputs": [],
   "source": [
    "middle_pages = []\n",
    "for i in range(len(pages)):\n",
    "    #page = pages[i].split(\",\")\n",
    "    page = np.array(literal_eval(f\"[{pages[i]}]\")) #this will get me numbers already\n",
    "    page_ok = True\n",
    "    for rule in rules:\n",
    "        rule_left,rule_right = [int(x) for x in rule.split(\"|\")]\n",
    "        ind_left = np.where(page == rule_left)[0]\n",
    "        ind_right = np.where(page == rule_right)[0]\n",
    "        if len(ind_left)==0 or len(ind_right)==0:\n",
    "            continue\n",
    "        if (ind_left > ind_right).item():\n",
    "            \n",
    "            page_ok = False\n",
    "            break\n",
    "    if page_ok:\n",
    "        middle_pages.append(page[len(page)//2].item())\n",
    "sum(middle_pages)\n",
    "        "
   ]
  },
  {
   "cell_type": "code",
   "execution_count": null,
   "metadata": {},
   "outputs": [],
   "source": [
    "#part 2\n",
    "middle_pages = []\n",
    "for i in range(len(pages)):\n",
    "    page = np.array(literal_eval(f\"[{pages[i]}]\"))\n",
    "    page_ok = True\n",
    "    for rule in rules:\n",
    "        rule_left,rule_right = [int(x) for x in rule.split(\"|\")]\n",
    "        ind_left = np.where(page == rule_left)[0]\n",
    "        ind_right = np.where(page == rule_right)[0]\n",
    "        if len(ind_left)==0 or len(ind_right)==0:\n",
    "            continue\n",
    "        if (ind_left > ind_right).item():\n",
    "            page_ok = False\n",
    "            break\n",
    "    if not page_ok:\n",
    "        print(f\"Page {i} is not OK.\")\n",
    "        updated_page = page\n",
    "        check_again = True\n",
    "        cycles=0\n",
    "        while not page_ok:\n",
    "            if not check_again:\n",
    "                page_ok=True\n",
    "            cycles += 1\n",
    "            check_again = False\n",
    "            for rule in rules:\n",
    "                rule_left,rule_right = [int(x) for x in rule.split(\"|\")]\n",
    "                ind_left = np.where(page == rule_left)[0]\n",
    "                ind_right = np.where(page == rule_right)[0]\n",
    "                if len(ind_left)==0 or len(ind_right)==0:\n",
    "                    continue\n",
    "                if (ind_left > ind_right).item():\n",
    "                    page_ok = False\n",
    "                    updated_page[ind_left] = rule_right\n",
    "                    updated_page[ind_right] = rule_left\n",
    "                    check_again = True\n",
    "        print(f\"iterations: {cycles}\\n---------\")\n",
    "        middle_pages.append(updated_page[len(page)//2].item())\n",
    "\n",
    "print(sum(middle_pages))"
   ]
  }
 ],
 "metadata": {
  "kernelspec": {
   "display_name": ".venv",
   "language": "python",
   "name": "python3"
  },
  "language_info": {
   "codemirror_mode": {
    "name": "ipython",
    "version": 3
   },
   "file_extension": ".py",
   "mimetype": "text/x-python",
   "name": "python",
   "nbconvert_exporter": "python",
   "pygments_lexer": "ipython3",
   "version": "3.12.6"
  }
 },
 "nbformat": 4,
 "nbformat_minor": 2
}
